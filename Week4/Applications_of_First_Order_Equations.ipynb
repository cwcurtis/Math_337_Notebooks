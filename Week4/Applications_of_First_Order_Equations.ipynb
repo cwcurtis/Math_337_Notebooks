{
 "cells": [
  {
   "cell_type": "code",
   "execution_count": 1,
   "metadata": {},
   "outputs": [],
   "source": [
    "import sys\n",
    "# comment out this line in your own work by just including a '#' at the beginning \n",
    "sys.path.insert(1, '..\\\\Software\\\\Library_Files')\n",
    "# use this line in your own files.  Just delete the '#' at the beginning\n",
    "# sys.path.insert(1, '.\\\\Software\\\\Library_Files')\n",
    "import PhasePlotter as PP\n",
    "import numpy as np\n",
    "import matplotlib.pyplot as plt\n",
    "%matplotlib inline"
   ]
  },
  {
   "cell_type": "markdown",
   "metadata": {},
   "source": [
    "From the book...\n",
    "\n",
    "At time $t = 0$ a tank contains $Q_0$ pounds (lb) of salt dissolved in 100 gallons (gal) of water.  Assume that water containing 1/4 lb of salt/gal is entering the tank at a rate of $r$ gal/minutes (min) and that the well-stirred mixture is draining from the tank at the same rate. Set up the initial value problem that describes this flow process. \n",
    "\n",
    "* (a) Find the quantity of salt $Q(t)$ in the tank at any time and \n",
    "* (b) Find the limiting quantity $Q_L$ that is present after a very long time. \n",
    "* (c) If $r = 3~\\text{gal/min}$ and $Q_0 = 2Q_L$, find the time $t$ after which the salt level is within 2% of $Q_L$. \n",
    "* (d) Find the flow rate that is required if the value of $t$ is not to exceed 45 min.\n",
    "\n",
    "![](water_tank.png)\n",
    "\n",
    "General principle here is, *salt is neither spontaneously created nor destroyed*, it is only brought in or carried away.  Thus, we have that \n",
    "\n",
    "$$\n",
    "\\frac{dQ}{dt} = \\text{rate at which salt comes in} - \\text{rate at which salt goes out}\n",
    "$$\n",
    "\n",
    "Note, $r$ is volume per minute, so personally I'd start my model with \n",
    "\n",
    "$$\n",
    "\\frac{dQ}{dt} = r\\rho_{in} - r\\rho_{out}\n",
    "$$\n",
    "\n",
    "where $\\rho_{in/out}$ are the densities of salt in the incoming and outgoing mixtures.  Now $\\rho_{in}=1/4 ~\\text{lb/gal}$.  As for  $\\rho_{out} = Q(t)/V$, where $V=100~\\text{gallons}$.  Note, the total amount of water in this problem stays fixed. So then we get the equation\n",
    "\n",
    "$$\n",
    "\\frac{dQ}{dt} = r\\rho_{in} - \\frac{r}{V}Q, ~ Q(0) = Q_{0}\n",
    "$$\n",
    "\n",
    "**Problem**: Find the integrating factor.\n",
    "\n",
    "**Problem**: Find the general solution of the differential equation.  \n",
    "\n",
    "Now we know everything, in particular that \n",
    "\n",
    "$$\n",
    "Q(t) = Q_{0}e^{-rt/V} + \\rho_{in}V\\left(1 - e^{-rt/V}\\right).\n",
    "$$\n",
    "\n",
    "Clearly $Q(t) \\rightarrow \\rho_{in}V = Q_{L}$, which makes perfect sense.  As for the other questions, we should be able to make short work of them once we use $\\rho_{in}V = Q_{L}$ and $Q_{0}=2Q_{L}$ so that \n",
    "\n",
    "$$\n",
    "Q(t) = Q_{L}\\left( e^{-rt/V} + 1\\right).\n",
    "$$\n",
    "\n",
    "and then we want the time $t$ such that $Q(t)=1.02Q_{L}$ which is \n",
    "\n",
    "$$\n",
    ".02 = e^{-rt/V},~\\text{or} ~ t = -\\frac{V}{r}\\ln(.02) = \\frac{100}{3}\\ln(50) \\approx 130 min\n",
    "$$\n",
    "\n",
    "and then do something or other with the actual numbers and stuff.  "
   ]
  },
  {
   "cell_type": "code",
   "execution_count": null,
   "metadata": {},
   "outputs": [],
   "source": []
  }
 ],
 "metadata": {
  "kernelspec": {
   "display_name": "Python 3",
   "language": "python",
   "name": "python3"
  },
  "language_info": {
   "codemirror_mode": {
    "name": "ipython",
    "version": 3
   },
   "file_extension": ".py",
   "mimetype": "text/x-python",
   "name": "python",
   "nbconvert_exporter": "python",
   "pygments_lexer": "ipython3",
   "version": "3.8.3"
  }
 },
 "nbformat": 4,
 "nbformat_minor": 4
}
