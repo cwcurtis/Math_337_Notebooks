{
 "cells": [
  {
   "cell_type": "code",
   "execution_count": 1,
   "metadata": {},
   "outputs": [],
   "source": [
    "# Never mess with this preamble.  \n",
    "import sys\n",
    "# comment out this line in your own work by just including a '#' at the beginning \n",
    "sys.path.insert(1, '..\\\\Software\\\\Library_Files')\n",
    "# use this line in your own files.  Just delete the '#' at the beginning\n",
    "# sys.path.insert(1, '.\\\\Software\\\\Library_Files')\n",
    "import PhasePlotter as PP\n",
    "import numpy as np\n",
    "import matplotlib.pyplot as plt\n",
    "%matplotlib inline"
   ]
  },
  {
   "cell_type": "markdown",
   "metadata": {},
   "source": [
    "## Population Models (see 1.2, 2.1, and 2.5)\n",
    "\n",
    "So, while we used the model \n",
    "\n",
    "$$\n",
    "\\frac{dP}{dt} = rP, ~ P(0) = P_{0}, ~ P_{0} \\gt 0\n",
    "$$\n",
    "\n",
    "to model investments, we could just as well have used it as a model for population growth.  In fact, this was most famously done by Malthus in 1798 (or infamously since Malthus tried to tie human population growth to an increase in poverty, which as an argument enters some interesting ethical spaces to put it mildly), where by assuming $r\\gt 0$, he argued using the solution $P(t)=P_{0}e^{rt}$ that human populations would grow exponentially fast.  Now clearly, this is not a terribly sophisticated model, and we can already think of some simple tweaks.  \n",
    "\n",
    "For example, if we go back to the model \n",
    "\n",
    "$$\n",
    "\\frac{dP}{dt} = rP-k, ~ P(0) = P_{0}\n",
    "$$\n",
    "\n",
    "where we take $r\\gt 0$ and $k\\gt 0$, then we see this is a model for an exponentially growing population in which a fixed number of members of the population are removed at every time interval.  Good model maybe for fish in lake with a fixed catch rate.  Dunno, I don't fish.  \n",
    "\n",
    "Probably the first population model that really starts to feel broadly applicable is the following, known as the *Logistic Model*\n",
    "\n",
    "$$\n",
    "\\frac{dP}{dt} = rP(K - P), ~ P(0) = P_{0}, ~ r, K \\gt 0\n",
    "$$"
   ]
  },
  {
   "cell_type": "markdown",
   "metadata": {},
   "source": [
    "**Problem**: \n",
    "\n",
    "* Find the solution to the Logistic Model.  Note, you will need to use  \n",
    "$$\n",
    "\\int \\frac{dP}{P(K-P)} = \\frac{1}{K}\\int \\left(\\frac{1}{P} + \\frac{1}{K-P} \\right) dP = \\frac{1}{K}\\left(\\ln|P| - \\ln|K-P| \\right) = rt + C\n",
    "$$\n",
    "* Once you have done that, find \n",
    "$$\n",
    "\\lim_{t\\rightarrow \\infty} P(t) = ?\n",
    "$$\n",
    "* Is your infinite time limit independent of the intial conditions?  \n",
    "* How would you interpret $K$?"
   ]
  },
  {
   "cell_type": "markdown",
   "metadata": {},
   "source": [
    "*Solution*: \n",
    "\n",
    "So using our separation trick, we find that \n",
    "\n",
    "$$\n",
    "\\frac{1}{K}\\int \\left(\\frac{1}{P} + \\frac{1}{K-P} \\right) dP = rt + C\n",
    "$$\n",
    "\n",
    "so that we have \n",
    "\n",
    "$$\n",
    "\\ln|P| - \\ln|K-P| = Krt + C\n",
    "$$\n",
    "\n",
    "so that \n",
    "\n",
    "$$\n",
    "\\ln\\left|\\frac{P}{K-P}\\right| = Krt + C\n",
    "$$\n",
    "\n",
    "or \n",
    "\n",
    "$$\n",
    "\\frac{P}{K-P} = \\tilde{C}e^{Krt}\n",
    "$$\n",
    "\n",
    "Solving for $P$, we find that \n",
    "\n",
    "$$\n",
    "P(t) = \\frac{K\\tilde{C}e^{Krt}}{1 + \\tilde{C}e^{Krt}}\n",
    "$$\n",
    "\n",
    "To make this a little prettier, I suggest using \n",
    "\n",
    "$$\n",
    "P(t) = \\frac{K}{\\frac{1}{\\tilde{C}}e^{-Krt} + 1}\n",
    "$$\n",
    "\n",
    "\n",
    "As for the initial condition, we have \n",
    "\n",
    "$$\n",
    "P(0) = \\frac{K}{\\frac{1}{\\tilde{C}} + 1} = P_{0}\n",
    "$$\n",
    "\n",
    "Solving for $1/\\tilde{C}$, we find \n",
    "\n",
    "$$\n",
    "\\frac{1}{\\tilde{C}} = \\frac{K-P_{0}}{P_{0}}.\n",
    "$$\n",
    "\n",
    "Finally then, we see that \n",
    "\n",
    "$$\n",
    "P(t) = \\frac{K}{\\frac{(K-P_{0})}{P_{0}}e^{-Krt} + 1}\n",
    "$$\n",
    "\n",
    "Now then, we readily see that \n",
    "\n",
    "$$\n",
    "\\lim_{t\\rightarrow \\infty} P(t) = K,\n",
    "$$\n",
    "\n",
    "and that this limit is independent of any initial population.  It is for this reason, that we describe the value $K$ as the *carrying capacity* of the population.  "
   ]
  },
  {
   "cell_type": "markdown",
   "metadata": {},
   "source": [
    "So huh, okay, we see that no matter what initial population we start with, we should end up with the same population $K$.  What does that look like?  Well, for the sake of argument, let's suppose $K=1$, $r=1$, and let's try $P_{0} = .1, .5, 2, 4$ and then plot the results using our solution.  "
   ]
  },
  {
   "cell_type": "code",
   "execution_count": 2,
   "metadata": {},
   "outputs": [
    {
     "data": {
      "text/plain": [
       "Text(0, 0.5, '$P(t)$')"
      ]
     },
     "execution_count": 2,
     "metadata": {},
     "output_type": "execute_result"
    },
    {
     "data": {
      "image/png": "[encoded data removed]",
      "text/plain": [
       "<Figure size 432x288 with 1 Axes>"
      ]
     },
     "metadata": {
      "needs_background": "light"
     },
     "output_type": "display_data"
    }
   ],
   "source": [
    "K = 1.\n",
    "r = 1.\n",
    "\n",
    "pt = lambda t, p0 :  K/( 1. + (K-p0)/p0 * np.exp(-K*r*t) )\n",
    "\n",
    "tvals = np.linspace(0.,10.,1000)\n",
    "\n",
    "plt.plot(tvals,pt(tvals,.1))\n",
    "plt.plot(tvals,pt(tvals,.5))\n",
    "plt.plot(tvals,pt(tvals,2.))\n",
    "plt.plot(tvals,pt(tvals,4.))\n",
    "plt.xlabel(\"$t$\")\n",
    "plt.ylabel(\"$P(t)$\")"
   ]
  },
  {
   "cell_type": "markdown",
   "metadata": {},
   "source": [
    "Okay, so now we see a little more clearly what is going on here.  Those populations that start below $K=10$ rise up to it, while those populations which start above drop down.  Either way though, we see that $K$ has a special power in that it seems to pull other solutions towards it.  Now what is especially cool is that $P(t)=K$ is itself a solution of the differential equation.  \n",
    "\n",
    "We can see this by noting that for \n",
    "\n",
    "$$\n",
    "\\frac{dP}{dt} = rP(K-P)\n",
    "$$\n",
    "\n",
    "if $P(t) = K$ then $d/dt K = 0$ and $rK(K-K) = 0$, so $P(t) = K$ solves the equation.  Since $K$ is a constant solution, we call it an *equilibrium solution*, and we see that all other solutions are pulled towards it.  To find all the equilibrium solutions of the above equation, we set $dP/dt=0$ and solve\n",
    "\n",
    "$$\n",
    "rP(K-P) = 0\n",
    "$$\n",
    "\n",
    "which shows us that we have two equilibrium solutions $P^{eq}_{1} = 0$ and $P^{eq}_{2}= K$.  So if we look at the above figure, we also see that solutions go away from $P^{eq}_{1}= 0$.  So we see one equilibrium is *attractive* or *stable* while the other is *repellant* or *unstable*.  "
   ]
  },
  {
   "cell_type": "markdown",
   "metadata": {},
   "source": [
    "So we see then that all of our solutions seem to be lining up around the two equilibria.  Is there a way that we can see this all at once?  The answer is yes, and the plot we want is called a *phase plot*.  Let me make it for this problem, and then we'll explain it.  "
   ]
  },
  {
   "cell_type": "code",
   "execution_count": 3,
   "metadata": {},
   "outputs": [],
   "source": [
    "a = -1.\n",
    "b = 2.\n",
    "r = 1.\n",
    "K = 1.\n",
    "fun = lambda P: r*P*(K - P)\n",
    "myplotter = PP.PhasePlotter(a, b, fun, 'P', 'Logistic_Equation')"
   ]
  },
  {
   "cell_type": "code",
   "execution_count": 4,
   "metadata": {},
   "outputs": [
    {
     "data": {
      "image/png": "[encoded data removed]",
      "text/plain": [
       "<Figure size 432x288 with 1 Axes>"
      ]
     },
     "metadata": {
      "needs_background": "light"
     },
     "output_type": "display_data"
    }
   ],
   "source": [
    "myplotter.PhaseField1D()"
   ]
  },
  {
   "cell_type": "markdown",
   "metadata": {},
   "source": [
    "So we see $rP(K-P)$ plotted above the $P$ axis.  Where it is positive/blue, we have $dP/dt \\gt 0$, and thus we have an arrow pointing to the right.  Where it is negative/red, we have $dP/dt \\lt 0$, and we have an arrow pointing to the left.  Thus we see now that solutions want to move away from $P^{eq}_{1}=0$ while solutions are drawn towards $P^{eq}_{2}=K$.  "
   ]
  },
  {
   "cell_type": "markdown",
   "metadata": {},
   "source": [
    "## Equilibria and Stability for First-Order Autonomous Differential Equations (see 1.2 and 2.5)\n",
    "\n",
    "So if we try to generalize what we saw above, we would want to study the class of differential equations \n",
    "\n",
    "$$\n",
    "\\frac{dy}{dt} = f(y)\n",
    "$$\n",
    "\n",
    "We call this a *first-order*, *autonomous* differential equation.  It is first order since the highest derivative in the equation is only a first derivative.  It is called autonomous because $f(y)$ does not depend explicitly on the independent variable $t$.  In contrast, a differential equation of the form\n",
    "\n",
    "$$\n",
    "\\frac{dy}{dt} = f(t,y)\n",
    "$$\n",
    "\n",
    "is a first-order, *nonautonomous* equation since $f(t,y)$ depends explicitly on the independent variable $t$ as well as the dependent variable $y(t)$.  Note, if we had a differential equation of the form \n",
    "\n",
    "$$\n",
    "\\frac{d^{2}y}{dt^{2}} = f(t,y) + 3\\frac{dy}{dt}\n",
    "$$\n",
    "\n",
    "then we call this a *second-order* nonautonomous equation.  Anyway, back to the story.  \n",
    "\n",
    "So for a general first-order autonomous equation, we have seen from above that much can be learned by studying the equilibrium solutions i.e. \n",
    "\n",
    "> Equilibrium Solution: $f(y_{eq}) = 0$, where $dy_{eq}/dt = 0$. \n",
    "\n",
    "Now, let's look at what happens near an equilibrium solution.  So for a general solution $y(t)$ near an equilibrium solution $y_{eq}$ we have that\n",
    "\n",
    "\\begin{align*}\n",
    "\\frac{dy}{dt} = & f(y) \\\\ \n",
    "= & f(y_{eq} + y-y_{eq})\\\\\n",
    "= & f(y_{eq}) + f'(y_{eq})(y-y_{eq}) + \\mathscr{O}\\left((y-y_{eq})^{2} \\right)\\\\\n",
    "= & f'(y_{eq})(y-y_{eq}) + \\mathscr{O}\\left((y-y_{eq})^{2} \\right)\n",
    "\\end{align*} \n",
    "\n",
    "Moreover, since $\\frac{dy_{eq}}{dt} = 0$, we also see that $\\frac{dy}{dt} = \\frac{d(y-y_{eq})}{dt}$, and thus we have the approximation\n",
    "\n",
    "$$\n",
    "\\frac{d}{dt}\\left(y - y_{eq} \\right) \\approx f'(y_{eq})(y-y_{eq})\n",
    "$$\n",
    "\n",
    "and thus we have \n",
    "\n",
    "$$\n",
    "y(t) - y_{eq} \\approx Ce^{f'(y_{eq})t}.\n",
    "$$\n",
    "\n",
    "So now we see that if \n",
    "\n",
    "* $f'(y_{eq}) \\lt 0 \\rightarrow \\lim_{t\\rightarrow \\infty}y(t) = y_{eq}$.  Thus we say $y_{eq}$ is attractive/asymptotically stable.\n",
    "* $f'(y_{eq}) \\gt 0 \\rightarrow \\lim_{t\\rightarrow \\infty}y(t) \\neq y_{eq}$.  Thus we say $y_{eq}$ is repellent/unstable.\n",
    "* $f'(y_{eq}) = 0$...  Not clear, you need more information to make a decision.  \n",
    "\n",
    "Going back to the Logistic Model, in which $f(y) = ry(K - y)$, we have the equilibria $y_{eq} = 0, K$.  We see that \n",
    "\n",
    "$$\n",
    "\\frac{df}{dy} = r(K-y) - ry = rK - 2ry\n",
    "$$\n",
    "\n",
    "So $f'(0) = rK \\gt 0$ and $f'(K)=-rK \\lt 0$.  Thus we see we get what we expect with regards to the instability and stability of each equilibrium point respectively.  "
   ]
  },
  {
   "cell_type": "markdown",
   "metadata": {},
   "source": [
    "**Problem**: For the first-order autonomous equation \n",
    "\n",
    "$$\n",
    "\\frac{dy}{dt} = \\sin(y)\n",
    "$$\n",
    "\n",
    "find and classify the stability of all the equilibrium points.  Sketch the phase plane and provide a rough sketch of how the solution $y(t)$ would behave for different initial conditions in the $(t,y)$ plane.  Note $\\cos(n\\pi) = (-1)^{n}$, and yes there are an infinite number of equilibrium points.    "
   ]
  },
  {
   "cell_type": "code",
   "execution_count": 8,
   "metadata": {},
   "outputs": [],
   "source": [
    "a = -.1\n",
    "b = 6.*np.pi\n",
    "fun = lambda y: np.sin(y)\n",
    "newplotter = PP.PhasePlotter(a, b, fun, 'y', 'Sin_Function')"
   ]
  },
  {
   "cell_type": "code",
   "execution_count": 9,
   "metadata": {},
   "outputs": [
    {
     "data": {
      "image/png": "[encoded data removed]",
      "text/plain": [
       "<Figure size 432x288 with 1 Axes>"
      ]
     },
     "metadata": {
      "needs_background": "light"
     },
     "output_type": "display_data"
    }
   ],
   "source": [
    "newplotter.PhaseField1D()"
   ]
  },
  {
   "cell_type": "markdown",
   "metadata": {},
   "source": [
    "**Problem**: For the first-order autonomous equation \n",
    "\n",
    "$$\n",
    "\\frac{dy}{dt} = y^{2}\n",
    "$$\n",
    "\n",
    "find and classify the stability of all the equilibrium points.  What happens when we try to solve this problem exactly?  What do we see about solutions?  "
   ]
  },
  {
   "cell_type": "markdown",
   "metadata": {},
   "source": [
    "## 1.3 - Classification of Differential Equations\n",
    "\n",
    "Getting more general than above, we have that \n",
    "\n",
    "> The order of a differential equation is the value of its highest derivative.  \n",
    "\n",
    "> A general $n^{th}$ order autonomous equation is of the form $F\\left(y(t),\\frac{dy}{dt},\\cdots,\\frac{d^{n}y}{dt^{n}}\\right) = 0$\n",
    "\n",
    "> A general $n^{th}$ order non-autonomous equation is of the form $F\\left(t, y(t),\\frac{dy}{dt},\\cdots,\\frac{d^{n}y}{dt^{n}}\\right) = 0$\n",
    "\n",
    "> A linear $n^{th}$ order (non-autonomous) equation can be written in the form $\\mathcal{L}y = g(t)$ where $$\\mathcal{L}y = \\sum_{j=0}^{n}a_{j}(t)\\frac{d^{j}y}{dt^{j}} $$  If $g(t)=0$ we say the equation is homogeneous.  If an equation is not linear, then it is nonlinear. \n",
    "\n",
    "> 1st order, autonomous, linear, homogeneous\n",
    "$$\n",
    "\\frac{dp}{dt} = rp ~~ \\text{or} ~~ \\frac{dp}{dt} - rp = 0\n",
    "$$\n",
    "\n",
    "> 1st order, autonomous, linear, nonhomogeneous\n",
    "$$\n",
    "\\frac{dp}{dt} = rp + k ~~ \\text{or} ~~ \\frac{dp}{dt} - rp = k\n",
    "$$\n",
    "\n",
    "> 1st order, autonomous, nonlinear\n",
    "$$\n",
    "\\frac{dp}{dt} = rp(K-p) ~~ \\text{or} ~~ \\frac{dp}{dt} - rKp = -rp^{2}\n",
    "$$\n",
    "\n",
    "> 1st order, autonomous, nonlinear\n",
    "$$\n",
    "\\frac{dp}{dt} = \\sin(p)\n",
    "$$\n",
    "\n",
    "> 1st order, nonautonomous, nonlinear\n",
    "$$\n",
    "\\frac{dp}{dt} = t\\sin(p)\n",
    "$$\n",
    "\n",
    "> 2nd order, autonomous, nonlinear\n",
    "$$\n",
    "\\frac{d^{2}r}{dt^{2}} = - \\frac{G}{r^{2}}\n",
    "$$"
   ]
  },
  {
   "cell_type": "markdown",
   "metadata": {},
   "source": [
    "**Problem**: Suppose we have a linear, $n^{th}$ order, homogenous problem with two solutions $y_{1}(x)$ and $y_{2}(x)$, which means \n",
    "\n",
    "$$\n",
    "\\mathcal{L}y_{j} = 0, ~ \\mathcal{L}y_{j} = \\sum_{l=0}^{n}a_{l}(x) \\frac{d^{l}y_{j}}{dx^{l}}, ~ j=1, 2.\n",
    "$$\n",
    "\n",
    "Show that any linear combination of $y_{1}$ and $y_{2}$ gives us another homogenous solution, i.e. show for any constants $c_{1}$ and $c_{2}$ that \n",
    "\n",
    "$$\n",
    "\\mathcal{L}(c_{1}y_{1} + c_{2}y_{2}) = c_{1}\\mathcal{L}y_{1} + c_{2}\\mathcal{L}y_{2} = 0.\n",
    "$$"
   ]
  },
  {
   "cell_type": "markdown",
   "metadata": {},
   "source": [
    "**Problem**: Suppose I have the following inhomogenous linear, initial-value problem \n",
    "\n",
    "$$\n",
    "\\mathcal{L}y = g(x), ~ \\mathcal{L}y = \\sum_{l=0}^{n}a_{l}(x) \\frac{d^{l}y}{dx^{l}}, ~ y(0) = y_{0}.\n",
    "$$\n",
    "\n",
    "Show that the solution to the above problem can be written in the form \n",
    "\n",
    "$$\n",
    "y(x) = y_{h}(x) + y_{p}(x)\n",
    "$$\n",
    "\n",
    "where \n",
    "\n",
    "$$\n",
    "\\mathcal{L}y_{h} = 0, ~ y_{h}(0) = y_{0}\n",
    "$$\n",
    "\n",
    "and\n",
    "\n",
    "$$\n",
    "\\mathcal{L}y_{p} = g(x), ~ y_{p}(0) = 0.\n",
    "$$"
   ]
  }
 ],
 "metadata": {
  "kernelspec": {
   "display_name": "Python 3",
   "language": "python",
   "name": "python3"
  },
  "language_info": {
   "codemirror_mode": {
    "name": "ipython",
    "version": 3
   },
   "file_extension": ".py",
   "mimetype": "text/x-python",
   "name": "python",
   "nbconvert_exporter": "python",
   "pygments_lexer": "ipython3",
   "version": "3.8.3"
  }
 },
 "nbformat": 4,
 "nbformat_minor": 4
}
