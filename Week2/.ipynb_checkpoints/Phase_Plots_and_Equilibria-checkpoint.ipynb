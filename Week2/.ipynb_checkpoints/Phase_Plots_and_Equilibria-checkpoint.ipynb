{
 "cells": [
  {
   "cell_type": "code",
   "execution_count": 1,
   "metadata": {},
   "outputs": [],
   "source": [
    "# Never mess with this preamble.  \n",
    "import sys\n",
    "sys.path.insert(1, '..\\Software\\Library_Files')\n",
    "import PhasePlotter as PP\n",
    "import numpy as np\n",
    "import matplotlib.pyplot as plt\n",
    "%matplotlib inline"
   ]
  },
  {
   "cell_type": "markdown",
   "metadata": {},
   "source": [
    "## Population Models\n",
    "\n",
    "So, while we used the model \n",
    "\n",
    "$$\n",
    "\\frac{dP}{dt} = rP, ~ P(0) = P_{0}, ~ P_{0} \\gt 0\n",
    "$$\n",
    "\n",
    "to model investments, we could just as well have used it as a model for population growth.  In fact, this was most famously done by Malthus in 1798 (or infamously since Malthus tried to tie human population growth to an increase in poverty, which as an argument enters some interesting ethical spaces to put it mildly), where by assuming $r\\gt 0$, he argued using the solution $P(t)=P_{0}e^{rt}$ that human populations would grow exponentially fast.  Now clearly, this is not a terribly sophisticated model, and we can already think of some simple tweaks.  \n",
    "\n",
    "For example, if we go back to the model \n",
    "\n",
    "$$\n",
    "\\frac{dP}{dt} = rP-k, ~ P(0) = P_{0}\n",
    "$$\n",
    "\n",
    "where we take $r\\gt 0$ and $k\\gt 0$, then we see this is a model for an exponentially growing population in which a fixed number of members of the population are removed at every time interval.  Good model maybe for fish in lake with a fixed catch rate.  Dunno, I don't fish.  \n",
    "\n",
    "Probably the first population model that really starts to feel broadly applicable is the following, known as the *Logistic Model*\n",
    "\n",
    "$$\n",
    "\\frac{dP}{dt} = rP(K - P), ~ P(0) = P_{0}, ~ r, K \\gt 0\n",
    "$$"
   ]
  },
  {
   "cell_type": "markdown",
   "metadata": {},
   "source": [
    "**Problem**: \n",
    "\n",
    "* Find the solution to the Logistic Model.  Note, you will need to use  \n",
    "$$\n",
    "\\int \\frac{dP}{P(K-P)} = \\frac{1}{K}\\int \\left(\\frac{1}{P} + \\frac{1}{K-P} \\right) dP = \\frac{1}{K}\\left(\\ln|P| - \\ln|K-P| \\right)\n",
    "$$\n",
    "* Once you have done that, find \n",
    "$$\n",
    "\\lim_{t\\rightarrow \\infty} P(t) = ?\n",
    "$$\n",
    "* Is your infinite time limit independent of the intial conditions?  \n",
    "* How would you interpret $K$?"
   ]
  },
  {
   "cell_type": "markdown",
   "metadata": {},
   "source": [
    "*Solution*: \n",
    "\n",
    "So using our separation trick, we find that \n",
    "\n",
    "$$\n",
    "\\frac{1}{K}\\int \\left(\\frac{1}{P} + \\frac{1}{K-P} \\right) dP = rt + C\n",
    "$$\n",
    "\n",
    "so that we have \n",
    "\n",
    "$$\n",
    "\\ln|P| - \\ln|K-P| = Krt + C\n",
    "$$\n",
    "\n",
    "so that \n",
    "\n",
    "$$\n",
    "\\ln\\left|\\frac{P}{K-P}\\right| = Krt + C\n",
    "$$\n",
    "\n",
    "or \n",
    "\n",
    "$$\n",
    "\\frac{P}{K-P} = \\tilde{C}e^{Krt}\n",
    "$$\n",
    "\n",
    "Solving for $P$, we find that \n",
    "\n",
    "$$\n",
    "P(t) = \\frac{K\\tilde{C}e^{Krt}}{1 + \\tilde{C}e^{Krt}}\n",
    "$$\n",
    "\n",
    "To make this a little prettier, I suggest using \n",
    "\n",
    "$$\n",
    "P(t) = \\frac{K}{\\frac{1}{\\tilde{C}}e^{-Krt} + 1}\n",
    "$$\n",
    "\n",
    "\n",
    "As for the initial condition, we have \n",
    "\n",
    "$$\n",
    "P(0) = \\frac{K}{\\frac{1}{\\tilde{C}} + 1} = P_{0}\n",
    "$$\n",
    "\n",
    "Solving for $1/\\tilde{C}$, we find \n",
    "\n",
    "$$\n",
    "\\frac{1}{\\tilde{C}} = \\frac{K-P_{0}}{P_{0}}.\n",
    "$$\n",
    "\n",
    "Finally then, we see that \n",
    "\n",
    "$$\n",
    "P(t) = \\frac{K}{\\frac{(K-P_{0})}{P_{0}}e^{-Krt} + 1}\n",
    "$$\n",
    "\n",
    "Now then, we readily see that \n",
    "\n",
    "$$\n",
    "\\lim_{t\\rightarrow \\infty} P(t) = K,\n",
    "$$\n",
    "\n",
    "and that this limit is independent of any initial population.  It is for this reason, that we describe the value $K$ as the *carrying capacity* of the population.  "
   ]
  },
  {
   "cell_type": "markdown",
   "metadata": {},
   "source": [
    "So huh, okay, we see that no matter what initial population we start with, we should end up with the same population $K$.  What does that look like?  Well, for the sake of argument, let's suppose $K=1$, $r=1$, and let's try $P_{0} = .1, .5, 2, 4$ and then plot the results using our solution.  "
   ]
  },
  {
   "cell_type": "code",
   "execution_count": 6,
   "metadata": {},
   "outputs": [
    {
     "data": {
      "text/plain": [
       "Text(0, 0.5, '$P(t)$')"
      ]
     },
     "execution_count": 6,
     "metadata": {},
     "output_type": "execute_result"
    },
    {
     "data": {
      "image/png": "[encoded data removed]",
      "text/plain": [
       "<Figure size 432x288 with 1 Axes>"
      ]
     },
     "metadata": {
      "needs_background": "light"
     },
     "output_type": "display_data"
    }
   ],
   "source": [
    "K = 1.\n",
    "r = 1.\n",
    "\n",
    "pt = lambda t, p0 :  K/( 1. + (K-p0)/p0 * np.exp(-K*r*t) )\n",
    "\n",
    "tvals = np.linspace(0.,10.,1000)\n",
    "\n",
    "plt.plot(tvals,pt(tvals,.1))\n",
    "plt.plot(tvals,pt(tvals,.5))\n",
    "plt.plot(tvals,pt(tvals,2.))\n",
    "plt.plot(tvals,pt(tvals,4.))\n",
    "plt.xlabel(\"$t$\")\n",
    "plt.ylabel(\"$P(t)$\")"
   ]
  },
  {
   "cell_type": "markdown",
   "metadata": {},
   "source": [
    "Okay, so now we see a little more clearly what is going on here.  Those populations that start below $K=10$ rise up to it, while those populations which start above drop down.  Either way though, we see that $K$ has a special power in that it seems to pull other solutions towards it.  Now what is especially cool is that $P(t)=K$ is itself a solution of the differential equation.  \n",
    "\n",
    "We can see this by noting that for \n",
    "\n",
    "$$\n",
    "\\frac{dP}{dt} = rP(K-P)\n",
    "$$\n",
    "\n",
    "if $P(t) = K$ then $d/dt K = 0$ and $rK(K-K) = 0$, so $P(t) = K$ solves the equation.  Since $K$ is a constant solution, we call it an *equilibrium solution*, and we see that all other solutions are pulled towards it.  To find all the equilibrium solutions of the above equation, we set $dP/dt=0$ and solve\n",
    "\n",
    "$$\n",
    "rP(K-P) = 0\n",
    "$$\n",
    "\n",
    "which shows us that we have two equilibrium solutions $P^{eq}_{1} = 0$ and $P^{eq}_{2}= K$.  So if we look at the above figure, we also see that solutions go away from $P^{eq}_{1}= 0$.  So we see one equilibrium is *attractive* or *stable* while the other is *repellant* or *unstable*.  "
   ]
  },
  {
   "cell_type": "markdown",
   "metadata": {},
   "source": [
    "So we see then that all of our solutions seem to be lining up around the two equilibria.  Is there a way that we can see this all at once?  The answer is yes, and the plot we want is called a *phase plot*.  Let me make it for this problem, and then we'll explain it.  "
   ]
  },
  {
   "cell_type": "code",
   "execution_count": 7,
   "metadata": {},
   "outputs": [],
   "source": [
    "a = -1.\n",
    "b = 2.\n",
    "r = 1.\n",
    "K = 1.\n",
    "fun = lambda P: r*P*(K - P)\n",
    "myplotter = PP.PhasePlotter(a, b, fun, 'P', 'Logistic_Equation')"
   ]
  },
  {
   "cell_type": "code",
   "execution_count": 8,
   "metadata": {},
   "outputs": [
    {
     "data": {
      "image/png": "[encoded data removed]",
      "text/plain": [
       "<Figure size 432x288 with 1 Axes>"
      ]
     },
     "metadata": {
      "needs_background": "light"
     },
     "output_type": "display_data"
    }
   ],
   "source": [
    "myplotter.PhaseField1D()"
   ]
  },
  {
   "cell_type": "markdown",
   "metadata": {},
   "source": [
    "So we see $rP(K-P)$ plotted above the $P$ axis.  Where it is positive/blue, we have $dP/dt \\gt 0$, and thus we have an arrow pointing to the right.  Where it is negative/red, we have $dP/dt \\lt 0$, and we have an arrow pointing to the left.  Thus we see now that solutions want to move away from $P^{eq}_{1}=0$ while solutions are drawn towards $P^{eq}_{2}=K$.  "
   ]
  },
  {
   "cell_type": "code",
   "execution_count": null,
   "metadata": {},
   "outputs": [],
   "source": []
  }
 ],
 "metadata": {
  "kernelspec": {
   "display_name": "Python 3",
   "language": "python",
   "name": "python3"
  },
  "language_info": {
   "codemirror_mode": {
    "name": "ipython",
    "version": 3
   },
   "file_extension": ".py",
   "mimetype": "text/x-python",
   "name": "python",
   "nbconvert_exporter": "python",
   "pygments_lexer": "ipython3",
   "version": "3.8.3"
  }
 },
 "nbformat": 4,
 "nbformat_minor": 4
}
