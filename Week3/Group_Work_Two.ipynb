{
 "cells": [
  {
   "cell_type": "code",
   "execution_count": null,
   "metadata": {},
   "outputs": [],
   "source": [
    "import sys\n",
    "# comment out this line in your own work by just including a '#' at the beginning \n",
    "sys.path.insert(1, '..\\\\Software\\\\Library_Files')\n",
    "# use this line in your own files.  Just delete the '#' at the beginning\n",
    "# sys.path.insert(1, '.\\\\Software\\\\Library_Files')\n",
    "import PhasePlotter as PP\n",
    "import numpy as np\n",
    "import matplotlib.pyplot as plt\n",
    "%matplotlib inline"
   ]
  },
  {
   "cell_type": "markdown",
   "metadata": {},
   "source": [
    "## Animals\n",
    "\n",
    "### Left-Snail Model \n",
    "\n",
    "\n",
    "#### Introduction\n",
    "* The shell of a snail exhibits chirality, left-handed (sinistral) or right-handed (dextral) coil relative to the central axis \n",
    "* The Indian conch shell, Turbinella pyrum, is primarily a right-handed gastropod \n",
    "* The left-handed shells are \"exceedingly rare\"\n",
    "* So why does nature favor snails with one particular handedness?\n",
    "* Gould notes that the vast majority of snails grow the dextral form. (see S. J. Gould, \"Left Snails and Right Minds\")\n",
    "\n",
    "\n",
    "* Cliford Henry Taubes (see \"Modeling Differential Equations in Biology\") gives a simple mathematical model to predict the bias of either the dextral or sinistral forms for a given species \n",
    "* Assume that the probability of a dextral snail breeding with a sinistral snail is proportional to the product of the number of dextral snails times sinistral snails \n",
    "* Assume that two sinistral snails always produce a sinistral snail and two dextral snails produce a dextral snail\n",
    "* Assume that a dextral-sinistral pair produce dextral and sinistral offspring with equal probability\n",
    "* By the first assumption, a dextral snail is twice as likely to choose a dextral snail than a sinistral snail\n",
    "* Could use real experimental verification of the assumptions\n",
    "\n",
    "#### Mathematical Model\n",
    "A model which qualitatively captures all of the above assumptions is the following.  Let $p(t)$ be the probability that a snail is dextral.  Then we describe the time evolution of this probability via the differential equation \n",
    "\n",
    "$$\n",
    "\\frac{dp}{dt} = p\\left(1-p\\right)\\left(p-\\frac{1}{2}\\right), ~ 0\\leq p \\leq 1.\n",
    "$$\n",
    "\n",
    "Using phase-plane analysis:\n",
    "\n",
    "* Generate a phase plot for $0\\leq p \\leq 1$.\n",
    "* Perform a stability analysis.  \n",
    "* Using said analysis, describe how your model is able to predict the far greater likelihood of dextral snails.  "
   ]
  },
  {
   "cell_type": "code",
   "execution_count": null,
   "metadata": {},
   "outputs": [],
   "source": [
    "# To make your phase plot use this.  \n",
    "pl = \n",
    "pr =  \n",
    "fun = lambda p: p*(1.-p)*(p-.5)\n",
    "myplotter = PP.PhasePlotter(pl, pr, fun, 'p', 'snail_model')\n",
    "myplotter.PhaseField1D()"
   ]
  },
  {
   "cell_type": "markdown",
   "metadata": {},
   "source": [
    "### Allee Effect \n",
    "\n",
    "* We are discussing the thick-billed parrot, *Rhynchopsitta pachyrhycha*\n",
    "* A gregarious montane bird that feeds largely on conifer seeds, using its large beak to break open pine cones for the seeds \n",
    "* These birds used to fly in huge flocks in the mountainous regions of Mexico and Southwestern U. S.\n",
    "* Largely because of habitat loss, these birds have lost much of their original range and have dropped to only about 1500 breeding pairs in a few large colonies in the mountains of Mexico\n",
    "* The pressures to log their habitat puts this population at extreme risk for extinction\n",
    "\n",
    "![](thick_bill.jpg)"
   ]
  },
  {
   "cell_type": "markdown",
   "metadata": {},
   "source": [
    "### The Allee Effect \n",
    "\n",
    "* The populations of these birds appear to exhibit a property known in ecology as the Allee effect\n",
    "* These parrots congregate in large social groups for almost all of their activities\n",
    "* The large group allows the birds many more eyes to watch out for predators\n",
    "* When the population drops below a certain number, then these birds become easy targets for predators, primarily hawks, which adversely affects their ability to sustain a breeding colony\n",
    "\n",
    "#### Mathematical Model\n",
    "\n",
    "Suppose that a population study on thick-billed parrots in a particular region finds that the population, $N(t)$, of the parrots satisfies the differential equation \n",
    "\n",
    "$$\n",
    "\\frac{dN}{dt} = N\\left(r - a(N-b)^{2} \\right)\n",
    "$$\n",
    "\n",
    "where $r=.04$, $a=10^{-8}$, and $b=2200$.\n",
    "\n",
    "* Find the equilibria for this differential equation\n",
    "* Determine the stability of the equilibria\n",
    "* Draw a phase portrait for the behavior of this model\n",
    "* Describe what happens to various starting populations of the parrots as predicted by this model"
   ]
  },
  {
   "cell_type": "code",
   "execution_count": null,
   "metadata": {},
   "outputs": [],
   "source": [
    "# Note, you need to generate two phase plots.  One on a large scale, \n",
    "# the other on a smaller one so that you can see details.   \n",
    "nl = \n",
    "nr = \n",
    "r = .04\n",
    "a = 1e-8\n",
    "b = 2200.\n",
    "fun = lambda N: \n",
    "newplotter = PP.PhasePlotter()\n",
    "newplotter.PhaseField1D()"
   ]
  },
  {
   "cell_type": "code",
   "execution_count": null,
   "metadata": {},
   "outputs": [],
   "source": []
  }
 ],
 "metadata": {
  "kernelspec": {
   "display_name": "Python 3",
   "language": "python",
   "name": "python3"
  },
  "language_info": {
   "codemirror_mode": {
    "name": "ipython",
    "version": 3
   },
   "file_extension": ".py",
   "mimetype": "text/x-python",
   "name": "python",
   "nbconvert_exporter": "python",
   "pygments_lexer": "ipython3",
   "version": "3.8.3"
  }
 },
 "nbformat": 4,
 "nbformat_minor": 4
}
